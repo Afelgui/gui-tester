{
 "cells": [
  {
   "cell_type": "code",
   "execution_count": 154,
   "metadata": {},
   "outputs": [],
   "source": [
    "from PIL import Image, ImageDraw, ImageFont\n",
    "import os,glob\n",
    "import numpy as np\n",
    "import random\n",
    "\n",
    "import cv2\n",
    "\n",
    "charactersList=['a','b','c','d','e','f','g','h','i','j','k','l','m','n','o','p','q','r','s','t','u','v','w','x','y','z','A','B','C','D','E','F','G','H','I','J','K','L','M','N','O','P','Q','R','S','T','U','V','W','X','Y','Z','0','1','2','3','4','5','6','7','8','9']\n",
    "fontTypes=[]\n",
    "\n",
    "path = r'pics\\white.png'\n",
    "image = cv2.imread(path)\n",
    "h,w,o = image.shape\n",
    "\n",
    "# text = 'dec'\n",
    "font = cv2.FONT_HERSHEY_SIMPLEX\n",
    "colorlist=[]\n",
    "for i in range(0,255,60):\n",
    "    for j in range(0,255,60):\n",
    "        for k in range(0,255,60):\n",
    "            if i+j+k<250:\n",
    "                colorlist.append((i,j,k))\n",
    "    \n",
    "for text in charactersList:\n",
    "    image = cv2.imread(path)\n",
    "    org = (int(h/2), int(w/2))\n",
    "    fontScale = 10\n",
    "    for color_num,color in enumerate(colorlist):  \n",
    "        for thickness in range(2,31,4):            \n",
    "            image0 = cv2.putText(image, text, org, font, fontScale, \n",
    "                         color, thickness, cv2.LINE_AA, False)\n",
    "            name=\"pics\\_\"+str(text)+str(color_num)+str(thickness)+\".jpg\"\n",
    "            isWritten = cv2.imwrite(name, image0)\n"
   ]
  },
  {
   "cell_type": "code",
   "execution_count": 123,
   "metadata": {},
   "outputs": [],
   "source": [
    "\n",
    "\n",
    "\n",
    "  \n",
    "  \n"
   ]
  },
  {
   "cell_type": "code",
   "execution_count": null,
   "metadata": {},
   "outputs": [],
   "source": []
  }
 ],
 "metadata": {
  "kernelspec": {
   "display_name": "Python 3",
   "language": "python",
   "name": "python3"
  },
  "language_info": {
   "codemirror_mode": {
    "name": "ipython",
    "version": 3
   },
   "file_extension": ".py",
   "mimetype": "text/x-python",
   "name": "python",
   "nbconvert_exporter": "python",
   "pygments_lexer": "ipython3",
   "version": "3.8.5"
  }
 },
 "nbformat": 4,
 "nbformat_minor": 4
}
